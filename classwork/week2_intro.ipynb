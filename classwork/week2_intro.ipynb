{
 "cells": [
  {
   "cell_type": "markdown",
   "metadata": {},
   "source": [
    "# Section 1:"
   ]
  },
  {
   "cell_type": "markdown",
   "metadata": {},
   "source": [
    "***This*** is just **random** *text*. Run this **and (format it) using _Ctrl+Enter_** log<sub>2</sub> <br/> \n",
    "[Click here to visit google](https://www.google.com)\n",
    "\n",
    "[![this is google logo](../google_logo.png)](https://www.google.com)\n",
    "\n",
    "[You can find readme file here](../README.md)"
   ]
  },
  {
   "cell_type": "markdown",
   "metadata": {},
   "source": [
    "We have two types of lists-- Ordered and Unordered\n",
    "* Apples\n",
    "* Oranges\n",
    "* Bananas\n",
    "* Rice\n",
    "\n",
    "1. Explain ReadMe Formats (Markdown)\n",
    "2. Run Python in Terminal (Done)\n",
    "3. Create Virtual environment\n",
    "4. Download dependencies in VENV and Save requirements then delete VENV. "
   ]
  },
  {
   "cell_type": "code",
   "execution_count": 3,
   "metadata": {},
   "outputs": [],
   "source": [
    "x = 10\n",
    "y = 5\n"
   ]
  },
  {
   "cell_type": "code",
   "execution_count": 4,
   "metadata": {},
   "outputs": [
    {
     "name": "stdout",
     "output_type": "stream",
     "text": [
      "Is X greater than Y? True\n"
     ]
    }
   ],
   "source": [
    "print(f\"Is X greater than Y? {x>y}\")"
   ]
  },
  {
   "cell_type": "markdown",
   "metadata": {},
   "source": [
    "# Section 2:"
   ]
  },
  {
   "cell_type": "markdown",
   "metadata": {},
   "source": [
    "Some random text for section 2."
   ]
  },
  {
   "cell_type": "markdown",
   "metadata": {},
   "source": [
    "| Header 1 | Header 2 | Header 3 |\n",
    "|---|---|---|\n",
    "| Item 1 | Item 2 | Item 3 |"
   ]
  },
  {
   "cell_type": "markdown",
   "metadata": {},
   "source": []
  }
 ],
 "metadata": {
  "kernelspec": {
   "display_name": "Python 3",
   "language": "python",
   "name": "python3"
  },
  "language_info": {
   "codemirror_mode": {
    "name": "ipython",
    "version": 3
   },
   "file_extension": ".py",
   "mimetype": "text/x-python",
   "name": "python",
   "nbconvert_exporter": "python",
   "pygments_lexer": "ipython3",
   "version": "3.11.9"
  }
 },
 "nbformat": 4,
 "nbformat_minor": 2
}
